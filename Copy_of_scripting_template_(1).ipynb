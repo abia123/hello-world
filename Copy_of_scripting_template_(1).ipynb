{
  "nbformat": 4,
  "nbformat_minor": 0,
  "metadata": {
    "colab": {
      "name": "Copy of scripting_template (1).ipynb",
      "provenance": [],
      "collapsed_sections": [],
      "include_colab_link": true
    },
    "kernelspec": {
      "display_name": "Python 3",
      "language": "python",
      "name": "python3"
    },
    "language_info": {
      "codemirror_mode": {
        "name": "ipython",
        "version": 3
      },
      "file_extension": ".py",
      "mimetype": "text/x-python",
      "name": "python",
      "nbconvert_exporter": "python",
      "pygments_lexer": "ipython3",
      "version": "3.7.9"
    }
  },
  "cells": [
    {
      "cell_type": "markdown",
      "metadata": {
        "id": "view-in-github",
        "colab_type": "text"
      },
      "source": [
        "<a href=\"https://colab.research.google.com/github/abia123/hello-world/blob/main/Copy_of_scripting_template_(1).ipynb\" target=\"_parent\"><img src=\"https://colab.research.google.com/assets/colab-badge.svg\" alt=\"Open In Colab\"/></a>"
      ]
    },
    {
      "cell_type": "markdown",
      "metadata": {
        "id": "E95Xjhp4Hk2o"
      },
      "source": [
        "1.   You must be using your Virginia Tech google account\n",
        "2.   Go to: https://drive.google.com/drive/u/1/folders/1hrrJvLk5Phdt-WNZtwKikEXDbVJi7z5C\n",
        "3.   Right click on the \"scripting-data\" folder and click \"Add shortcut to Drive\" and add the shortcut to the \"My Drive\" folder\n"
      ]
    },
    {
      "cell_type": "code",
      "metadata": {
        "id": "UEgk9b4MFz_R",
        "colab": {
          "base_uri": "https://localhost:8080/"
        },
        "outputId": "0c7623f0-6e80-468a-a5d9-8687b73af7d1"
      },
      "source": [
        "# To complete this step, you may need to follow the directions on screen to \n",
        "from google.colab import drive\n",
        "drive.mount('/content/drive')"
      ],
      "execution_count": null,
      "outputs": [
        {
          "output_type": "stream",
          "name": "stdout",
          "text": [
            "Mounted at /content/drive\n"
          ]
        }
      ]
    },
    {
      "cell_type": "code",
      "metadata": {
        "id": "augkI13sHHfS",
        "colab": {
          "base_uri": "https://localhost:8080/"
        },
        "outputId": "bab7f142-fd8c-4928-c858-72b498233fc1"
      },
      "source": [
        "# The folder should now be available at /content/drive/My Drive/scripting-data\n",
        "! ls \"/content/drive/My Drive/scripting-data\""
      ],
      "execution_count": null,
      "outputs": [
        {
          "output_type": "stream",
          "name": "stdout",
          "text": [
            "data_prepped  data_reduced\n"
          ]
        }
      ]
    },
    {
      "cell_type": "code",
      "metadata": {
        "id": "msKscX_L6deF",
        "colab": {
          "base_uri": "https://localhost:8080/"
        },
        "outputId": "51b0978e-4973-4140-9aad-49329bfdbe48"
      },
      "source": [
        "# Using `ls`, list the contents of the reduced raw data directory \"data_reduced\"\n",
        "! ls \"/content/drive/My Drive/scripting-data/data_reduced\""
      ],
      "execution_count": null,
      "outputs": [
        {
          "output_type": "stream",
          "name": "stdout",
          "text": [
            "'Snoq (100).JPG'  'Snoq (166).JPG'  'Snoq (230).JPG'  'Snoq (297).JPG'\n",
            "'Snoq (102).JPG'  'Snoq (16).JPG'   'Snoq (234).JPG'  'Snoq (32).JPG'\n",
            "'Snoq (106).JPG'  'Snoq (170).JPG'  'Snoq (237).JPG'  'Snoq (36).JPG'\n",
            "'Snoq (10).JPG'   'Snoq (174).JPG'  'Snoq (241).JPG'  'Snoq (40).JPG'\n",
            "'Snoq (110).JPG'  'Snoq (178).JPG'  'Snoq (245).JPG'  'Snoq (44).JPG'\n",
            "'Snoq (114).JPG'  'Snoq (182).JPG'  'Snoq (249).JPG'  'Snoq (48).JPG'\n",
            "'Snoq (118).JPG'  'Snoq (186).JPG'  'Snoq (24).JPG'   'Snoq (52).JPG'\n",
            "'Snoq (122).JPG'  'Snoq (190).JPG'  'Snoq (253).JPG'  'Snoq (56).JPG'\n",
            "'Snoq (126).JPG'  'Snoq (194).JPG'  'Snoq (257).JPG'  'Snoq (5).JPG'\n",
            "'Snoq (12).JPG'   'Snoq (198).JPG'  'Snoq (261).JPG'  'Snoq (60).JPG'\n",
            "'Snoq (130).JPG'  'Snoq (1).JPG'    'Snoq (265).JPG'  'Snoq (64).JPG'\n",
            "'Snoq (134).JPG'  'Snoq (202).JPG'  'Snoq (269).JPG'  'Snoq (68).JPG'\n",
            "'Snoq (138).JPG'  'Snoq (206).JPG'  'Snoq (273).JPG'  'Snoq (72).JPG'\n",
            "'Snoq (142).JPG'  'Snoq (20).JPG'   'Snoq (277).JPG'  'Snoq (76).JPG'\n",
            "'Snoq (146).JPG'  'Snoq (210).JPG'  'Snoq (281).JPG'  'Snoq (80).JPG'\n",
            "'Snoq (150).JPG'  'Snoq (214).JPG'  'Snoq (285).JPG'  'Snoq (82).JPG'\n",
            "'Snoq (154).JPG'  'Snoq (218).JPG'  'Snoq (289).JPG'  'Snoq (86).JPG'\n",
            "'Snoq (158).JPG'  'Snoq (222).JPG'  'Snoq (28).JPG'   'Snoq (90).JPG'\n",
            "'Snoq (162).JPG'  'Snoq (226).JPG'  'Snoq (293).JPG'  'Snoq (94).JPG'\n"
          ]
        }
      ]
    },
    {
      "cell_type": "code",
      "metadata": {
        "id": "KMEUzBT76fPa",
        "colab": {
          "base_uri": "https://localhost:8080/"
        },
        "outputId": "91bbd76e-371e-41bc-95c4-85ea1be37491"
      },
      "source": [
        "# Using `ls`, list the contents of the reduced raw data directory \"data_prepped\"\n",
        "! ls \"/content/drive/My Drive/scripting-data/data_prepped\""
      ],
      "execution_count": null,
      "outputs": [
        {
          "output_type": "stream",
          "name": "stdout",
          "text": [
            "010115_090000.jpg  012015_090000.jpg  020815_080000.jpg  120814_090000.jpg\n",
            "010215_090000.jpg  012115_090000.jpg  020915_090000.jpg  120914_100000.jpg\n",
            "010315_090000.jpg  012215_090000.jpg  112014_090000.jpg  121014_100000.jpg\n",
            "010415_090000.jpg  012315_100000.jpg  112114_100000.jpg  121614_100000.jpg\n",
            "010515_090000.jpg  012415_090000.jpg  112214_110000.jpg  121714_090000.jpg\n",
            "010615_090000.jpg  012515_090000.jpg  112314_100000.jpg  121814_090000.jpg\n",
            "010715_100000.jpg  012615_090000.jpg  112414_100000.jpg  121914_080000.jpg\n",
            "010815_090000.jpg  012715_090000.jpg  112514_100000.jpg  122014_090000.jpg\n",
            "010915_090000.jpg  012815_090000.jpg  112614_100000.jpg  122114_130100.jpg\n",
            "011015_090000.jpg  012915_090000.jpg  112714_090000.jpg  122214_080000.jpg\n",
            "011115_090000.jpg  013015_090000.jpg  112914_090000.jpg  122314_090000.jpg\n",
            "011215_090000.jpg  013115_090000.jpg  113014_090000.jpg  122414_080000.jpg\n",
            "011315_100000.jpg  020115_090000.jpg  120114_080000.jpg  122514_090000.jpg\n",
            "011415_090000.jpg  020215_100000.jpg  120214_090000.jpg  122614_090000.jpg\n",
            "011515_100000.jpg  020315_110000.jpg  120314_090000.jpg  122714_100000.jpg\n",
            "011615_090000.jpg  020415_090000.jpg  120414_090000.jpg  122814_100000.jpg\n",
            "011715_090000.jpg  020515_100000.jpg  120514_090000.jpg  122914_090000.jpg\n",
            "011815_090000.jpg  020615_100000.jpg  120614_100000.jpg  123014_090000.jpg\n",
            "011915_090000.jpg  020715_090000.jpg  120714_080000.jpg  123114_090000.jpg\n"
          ]
        }
      ]
    },
    {
      "cell_type": "markdown",
      "metadata": {
        "id": "FTwnQuqL7huD"
      },
      "source": [
        "# Question 1"
      ]
    },
    {
      "cell_type": "code",
      "metadata": {
        "id": "uQqEz1ld6iZU",
        "colab": {
          "base_uri": "https://localhost:8080/"
        },
        "outputId": "e24b1e8f-1f05-454a-e799-c98c1aa535a7"
      },
      "source": [
        "# Hint: the way to get the files in a directory is in the `os` module\n",
        "import os\n",
        "\n",
        "path = \"/content/drive/My Drive/scripting-data/data_prepped\"\n",
        "for file in os.listdir(path):\n",
        "  print(os.path.join(path, file))\n",
        "\n",
        "# Extend this code to print the contents (full relative path)\n",
        "# of the \"data_prepped\" directory"
      ],
      "execution_count": null,
      "outputs": [
        {
          "output_type": "stream",
          "name": "stdout",
          "text": [
            "/content/drive/My Drive/scripting-data/data_prepped/012915_090000.jpg\n",
            "/content/drive/My Drive/scripting-data/data_prepped/020715_090000.jpg\n",
            "/content/drive/My Drive/scripting-data/data_prepped/020815_080000.jpg\n",
            "/content/drive/My Drive/scripting-data/data_prepped/112914_090000.jpg\n",
            "/content/drive/My Drive/scripting-data/data_prepped/113014_090000.jpg\n",
            "/content/drive/My Drive/scripting-data/data_prepped/020915_090000.jpg\n",
            "/content/drive/My Drive/scripting-data/data_prepped/112614_100000.jpg\n",
            "/content/drive/My Drive/scripting-data/data_prepped/020115_090000.jpg\n",
            "/content/drive/My Drive/scripting-data/data_prepped/011615_090000.jpg\n",
            "/content/drive/My Drive/scripting-data/data_prepped/121614_100000.jpg\n",
            "/content/drive/My Drive/scripting-data/data_prepped/013015_090000.jpg\n",
            "/content/drive/My Drive/scripting-data/data_prepped/122214_080000.jpg\n",
            "/content/drive/My Drive/scripting-data/data_prepped/010615_090000.jpg\n",
            "/content/drive/My Drive/scripting-data/data_prepped/123014_090000.jpg\n",
            "/content/drive/My Drive/scripting-data/data_prepped/112214_110000.jpg\n",
            "/content/drive/My Drive/scripting-data/data_prepped/013115_090000.jpg\n",
            "/content/drive/My Drive/scripting-data/data_prepped/123114_090000.jpg\n",
            "/content/drive/My Drive/scripting-data/data_prepped/010915_090000.jpg\n",
            "/content/drive/My Drive/scripting-data/data_prepped/012615_090000.jpg\n",
            "/content/drive/My Drive/scripting-data/data_prepped/020415_090000.jpg\n",
            "/content/drive/My Drive/scripting-data/data_prepped/122814_100000.jpg\n",
            "/content/drive/My Drive/scripting-data/data_prepped/121014_100000.jpg\n",
            "/content/drive/My Drive/scripting-data/data_prepped/112414_100000.jpg\n",
            "/content/drive/My Drive/scripting-data/data_prepped/122714_100000.jpg\n",
            "/content/drive/My Drive/scripting-data/data_prepped/020615_100000.jpg\n",
            "/content/drive/My Drive/scripting-data/data_prepped/020515_100000.jpg\n",
            "/content/drive/My Drive/scripting-data/data_prepped/012715_090000.jpg\n",
            "/content/drive/My Drive/scripting-data/data_prepped/010415_090000.jpg\n",
            "/content/drive/My Drive/scripting-data/data_prepped/122914_090000.jpg\n",
            "/content/drive/My Drive/scripting-data/data_prepped/122514_090000.jpg\n",
            "/content/drive/My Drive/scripting-data/data_prepped/010715_100000.jpg\n",
            "/content/drive/My Drive/scripting-data/data_prepped/122314_090000.jpg\n",
            "/content/drive/My Drive/scripting-data/data_prepped/122614_090000.jpg\n",
            "/content/drive/My Drive/scripting-data/data_prepped/122114_130100.jpg\n",
            "/content/drive/My Drive/scripting-data/data_prepped/120314_090000.jpg\n",
            "/content/drive/My Drive/scripting-data/data_prepped/011115_090000.jpg\n",
            "/content/drive/My Drive/scripting-data/data_prepped/012315_100000.jpg\n",
            "/content/drive/My Drive/scripting-data/data_prepped/120414_090000.jpg\n",
            "/content/drive/My Drive/scripting-data/data_prepped/112314_100000.jpg\n",
            "/content/drive/My Drive/scripting-data/data_prepped/012815_090000.jpg\n",
            "/content/drive/My Drive/scripting-data/data_prepped/011815_090000.jpg\n",
            "/content/drive/My Drive/scripting-data/data_prepped/010215_090000.jpg\n",
            "/content/drive/My Drive/scripting-data/data_prepped/011515_100000.jpg\n",
            "/content/drive/My Drive/scripting-data/data_prepped/112514_100000.jpg\n",
            "/content/drive/My Drive/scripting-data/data_prepped/120614_100000.jpg\n",
            "/content/drive/My Drive/scripting-data/data_prepped/010115_090000.jpg\n",
            "/content/drive/My Drive/scripting-data/data_prepped/122014_090000.jpg\n",
            "/content/drive/My Drive/scripting-data/data_prepped/112714_090000.jpg\n",
            "/content/drive/My Drive/scripting-data/data_prepped/012115_090000.jpg\n",
            "/content/drive/My Drive/scripting-data/data_prepped/120214_090000.jpg\n",
            "/content/drive/My Drive/scripting-data/data_prepped/011415_090000.jpg\n",
            "/content/drive/My Drive/scripting-data/data_prepped/122414_080000.jpg\n",
            "/content/drive/My Drive/scripting-data/data_prepped/010815_090000.jpg\n",
            "/content/drive/My Drive/scripting-data/data_prepped/112014_090000.jpg\n",
            "/content/drive/My Drive/scripting-data/data_prepped/121814_090000.jpg\n",
            "/content/drive/My Drive/scripting-data/data_prepped/012015_090000.jpg\n",
            "/content/drive/My Drive/scripting-data/data_prepped/120514_090000.jpg\n",
            "/content/drive/My Drive/scripting-data/data_prepped/120114_080000.jpg\n",
            "/content/drive/My Drive/scripting-data/data_prepped/011015_090000.jpg\n",
            "/content/drive/My Drive/scripting-data/data_prepped/011915_090000.jpg\n",
            "/content/drive/My Drive/scripting-data/data_prepped/012415_090000.jpg\n",
            "/content/drive/My Drive/scripting-data/data_prepped/011315_100000.jpg\n",
            "/content/drive/My Drive/scripting-data/data_prepped/120914_100000.jpg\n",
            "/content/drive/My Drive/scripting-data/data_prepped/012215_090000.jpg\n",
            "/content/drive/My Drive/scripting-data/data_prepped/010515_090000.jpg\n",
            "/content/drive/My Drive/scripting-data/data_prepped/120814_090000.jpg\n",
            "/content/drive/My Drive/scripting-data/data_prepped/120714_080000.jpg\n",
            "/content/drive/My Drive/scripting-data/data_prepped/020315_110000.jpg\n",
            "/content/drive/My Drive/scripting-data/data_prepped/020215_100000.jpg\n",
            "/content/drive/My Drive/scripting-data/data_prepped/012515_090000.jpg\n",
            "/content/drive/My Drive/scripting-data/data_prepped/112114_100000.jpg\n",
            "/content/drive/My Drive/scripting-data/data_prepped/011215_090000.jpg\n",
            "/content/drive/My Drive/scripting-data/data_prepped/121714_090000.jpg\n",
            "/content/drive/My Drive/scripting-data/data_prepped/121914_080000.jpg\n",
            "/content/drive/My Drive/scripting-data/data_prepped/011715_090000.jpg\n",
            "/content/drive/My Drive/scripting-data/data_prepped/010315_090000.jpg\n"
          ]
        }
      ]
    },
    {
      "cell_type": "markdown",
      "metadata": {
        "id": "uB9xQ9Qe7mCt"
      },
      "source": [
        "# Question 2"
      ]
    },
    {
      "cell_type": "code",
      "metadata": {
        "id": "48V34gSr8RjT"
      },
      "source": [
        "! mkdir -p \"/content/drive/My Drive/scripting-output/data_iso_q2\""
      ],
      "execution_count": null,
      "outputs": []
    },
    {
      "cell_type": "code",
      "metadata": {
        "id": "e6GFqeyP6rIt",
        "colab": {
          "base_uri": "https://localhost:8080/"
        },
        "outputId": "8ca3d733-c698-4e97-d6b0-b0b0a6374196"
      },
      "source": [
        "import os\n",
        "\n",
        "# Hint: the way to manipulate paths is in the `os.path` module\n",
        "import os.path\n",
        "\n",
        "# Hint: the `shutil` module has tools for copying and moving files\n",
        "import shutil\n",
        "\n",
        "src_path = \"/content/drive/My Drive/scripting-data/data_prepped\"\n",
        "dst_path = \"/content/drive/My Drive/scripting-output/data_iso_q2\"\n",
        "\n",
        "# Extend this code to copy of the \"data_prepped\" directory \n",
        "# to the \"data_iso_q2\" directory with a name that uses the\n",
        "# ISO 8601 date standard\n",
        "\n",
        "for filename in os.listdir(src_path):\n",
        "  print(filename)\n",
        "  #print(filename[:2])\n",
        "  #print(filename[2:4])\n",
        "\n",
        "  month= filename[:2]\n",
        "  day= filename[2:4]\n",
        "  year= filename[4:6]\n",
        "\n",
        "  hour= filename[7:9]\n",
        "  minute= filename[2:4]\n",
        "  second= filename[11:13]\n",
        "\n",
        "  mod_year= '20' + year\n",
        "\n",
        "  #print(f'Month: (month)')\n",
        "  #print(f'Day: (day)')\n",
        "  #print(f'Year: (mod_year)')\n",
        "  #print(f'Hour: (hour)')\n",
        "  #print(f'Minute: (minute)')\n",
        "  #print(f'Second: (second)')\n",
        "\n",
        "  iso_filename= f'{mod_year}{month}{day}{hour}{minute}{second}'\n",
        "  #ISO Format\n",
        "  \n",
        "  source_file= src_path + '/' + filename\n",
        "\n",
        "  destination_file= dst_path + '/' + iso_filename\n",
        "\n",
        "  print(source_file)\n",
        "  print(destination_file)\n",
        "\n",
        "  shutil.copy(source_file, destination_file)\n",
        "\n"
      ],
      "execution_count": null,
      "outputs": [
        {
          "output_type": "stream",
          "name": "stdout",
          "text": [
            "012915_090000.jpg\n",
            "/content/drive/My Drive/scripting-data/data_prepped/012915_090000.jpg\n",
            "/content/drive/My Drive/scripting-output/data_iso_q2/20150129092900\n",
            "020715_090000.jpg\n",
            "/content/drive/My Drive/scripting-data/data_prepped/020715_090000.jpg\n",
            "/content/drive/My Drive/scripting-output/data_iso_q2/20150207090700\n",
            "020815_080000.jpg\n",
            "/content/drive/My Drive/scripting-data/data_prepped/020815_080000.jpg\n",
            "/content/drive/My Drive/scripting-output/data_iso_q2/20150208080800\n",
            "112914_090000.jpg\n",
            "/content/drive/My Drive/scripting-data/data_prepped/112914_090000.jpg\n",
            "/content/drive/My Drive/scripting-output/data_iso_q2/20141129092900\n",
            "113014_090000.jpg\n",
            "/content/drive/My Drive/scripting-data/data_prepped/113014_090000.jpg\n",
            "/content/drive/My Drive/scripting-output/data_iso_q2/20141130093000\n",
            "020915_090000.jpg\n",
            "/content/drive/My Drive/scripting-data/data_prepped/020915_090000.jpg\n",
            "/content/drive/My Drive/scripting-output/data_iso_q2/20150209090900\n",
            "112614_100000.jpg\n",
            "/content/drive/My Drive/scripting-data/data_prepped/112614_100000.jpg\n",
            "/content/drive/My Drive/scripting-output/data_iso_q2/20141126102600\n",
            "020115_090000.jpg\n",
            "/content/drive/My Drive/scripting-data/data_prepped/020115_090000.jpg\n",
            "/content/drive/My Drive/scripting-output/data_iso_q2/20150201090100\n",
            "011615_090000.jpg\n",
            "/content/drive/My Drive/scripting-data/data_prepped/011615_090000.jpg\n",
            "/content/drive/My Drive/scripting-output/data_iso_q2/20150116091600\n",
            "121614_100000.jpg\n",
            "/content/drive/My Drive/scripting-data/data_prepped/121614_100000.jpg\n",
            "/content/drive/My Drive/scripting-output/data_iso_q2/20141216101600\n",
            "013015_090000.jpg\n",
            "/content/drive/My Drive/scripting-data/data_prepped/013015_090000.jpg\n",
            "/content/drive/My Drive/scripting-output/data_iso_q2/20150130093000\n",
            "122214_080000.jpg\n",
            "/content/drive/My Drive/scripting-data/data_prepped/122214_080000.jpg\n",
            "/content/drive/My Drive/scripting-output/data_iso_q2/20141222082200\n",
            "010615_090000.jpg\n",
            "/content/drive/My Drive/scripting-data/data_prepped/010615_090000.jpg\n",
            "/content/drive/My Drive/scripting-output/data_iso_q2/20150106090600\n",
            "123014_090000.jpg\n",
            "/content/drive/My Drive/scripting-data/data_prepped/123014_090000.jpg\n",
            "/content/drive/My Drive/scripting-output/data_iso_q2/20141230093000\n",
            "112214_110000.jpg\n",
            "/content/drive/My Drive/scripting-data/data_prepped/112214_110000.jpg\n",
            "/content/drive/My Drive/scripting-output/data_iso_q2/20141122112200\n",
            "013115_090000.jpg\n",
            "/content/drive/My Drive/scripting-data/data_prepped/013115_090000.jpg\n",
            "/content/drive/My Drive/scripting-output/data_iso_q2/20150131093100\n",
            "123114_090000.jpg\n",
            "/content/drive/My Drive/scripting-data/data_prepped/123114_090000.jpg\n",
            "/content/drive/My Drive/scripting-output/data_iso_q2/20141231093100\n",
            "010915_090000.jpg\n",
            "/content/drive/My Drive/scripting-data/data_prepped/010915_090000.jpg\n",
            "/content/drive/My Drive/scripting-output/data_iso_q2/20150109090900\n",
            "012615_090000.jpg\n",
            "/content/drive/My Drive/scripting-data/data_prepped/012615_090000.jpg\n",
            "/content/drive/My Drive/scripting-output/data_iso_q2/20150126092600\n",
            "020415_090000.jpg\n",
            "/content/drive/My Drive/scripting-data/data_prepped/020415_090000.jpg\n",
            "/content/drive/My Drive/scripting-output/data_iso_q2/20150204090400\n",
            "122814_100000.jpg\n",
            "/content/drive/My Drive/scripting-data/data_prepped/122814_100000.jpg\n",
            "/content/drive/My Drive/scripting-output/data_iso_q2/20141228102800\n",
            "121014_100000.jpg\n",
            "/content/drive/My Drive/scripting-data/data_prepped/121014_100000.jpg\n",
            "/content/drive/My Drive/scripting-output/data_iso_q2/20141210101000\n",
            "112414_100000.jpg\n",
            "/content/drive/My Drive/scripting-data/data_prepped/112414_100000.jpg\n",
            "/content/drive/My Drive/scripting-output/data_iso_q2/20141124102400\n",
            "122714_100000.jpg\n",
            "/content/drive/My Drive/scripting-data/data_prepped/122714_100000.jpg\n",
            "/content/drive/My Drive/scripting-output/data_iso_q2/20141227102700\n",
            "020615_100000.jpg\n",
            "/content/drive/My Drive/scripting-data/data_prepped/020615_100000.jpg\n",
            "/content/drive/My Drive/scripting-output/data_iso_q2/20150206100600\n",
            "020515_100000.jpg\n",
            "/content/drive/My Drive/scripting-data/data_prepped/020515_100000.jpg\n",
            "/content/drive/My Drive/scripting-output/data_iso_q2/20150205100500\n",
            "012715_090000.jpg\n",
            "/content/drive/My Drive/scripting-data/data_prepped/012715_090000.jpg\n",
            "/content/drive/My Drive/scripting-output/data_iso_q2/20150127092700\n",
            "010415_090000.jpg\n",
            "/content/drive/My Drive/scripting-data/data_prepped/010415_090000.jpg\n",
            "/content/drive/My Drive/scripting-output/data_iso_q2/20150104090400\n",
            "122914_090000.jpg\n",
            "/content/drive/My Drive/scripting-data/data_prepped/122914_090000.jpg\n",
            "/content/drive/My Drive/scripting-output/data_iso_q2/20141229092900\n",
            "122514_090000.jpg\n",
            "/content/drive/My Drive/scripting-data/data_prepped/122514_090000.jpg\n",
            "/content/drive/My Drive/scripting-output/data_iso_q2/20141225092500\n",
            "010715_100000.jpg\n",
            "/content/drive/My Drive/scripting-data/data_prepped/010715_100000.jpg\n",
            "/content/drive/My Drive/scripting-output/data_iso_q2/20150107100700\n",
            "122314_090000.jpg\n",
            "/content/drive/My Drive/scripting-data/data_prepped/122314_090000.jpg\n",
            "/content/drive/My Drive/scripting-output/data_iso_q2/20141223092300\n",
            "122614_090000.jpg\n",
            "/content/drive/My Drive/scripting-data/data_prepped/122614_090000.jpg\n",
            "/content/drive/My Drive/scripting-output/data_iso_q2/20141226092600\n",
            "122114_130100.jpg\n",
            "/content/drive/My Drive/scripting-data/data_prepped/122114_130100.jpg\n",
            "/content/drive/My Drive/scripting-output/data_iso_q2/20141221132100\n",
            "120314_090000.jpg\n",
            "/content/drive/My Drive/scripting-data/data_prepped/120314_090000.jpg\n",
            "/content/drive/My Drive/scripting-output/data_iso_q2/20141203090300\n",
            "011115_090000.jpg\n",
            "/content/drive/My Drive/scripting-data/data_prepped/011115_090000.jpg\n",
            "/content/drive/My Drive/scripting-output/data_iso_q2/20150111091100\n",
            "012315_100000.jpg\n",
            "/content/drive/My Drive/scripting-data/data_prepped/012315_100000.jpg\n",
            "/content/drive/My Drive/scripting-output/data_iso_q2/20150123102300\n",
            "120414_090000.jpg\n",
            "/content/drive/My Drive/scripting-data/data_prepped/120414_090000.jpg\n",
            "/content/drive/My Drive/scripting-output/data_iso_q2/20141204090400\n",
            "112314_100000.jpg\n",
            "/content/drive/My Drive/scripting-data/data_prepped/112314_100000.jpg\n",
            "/content/drive/My Drive/scripting-output/data_iso_q2/20141123102300\n",
            "012815_090000.jpg\n",
            "/content/drive/My Drive/scripting-data/data_prepped/012815_090000.jpg\n",
            "/content/drive/My Drive/scripting-output/data_iso_q2/20150128092800\n",
            "011815_090000.jpg\n",
            "/content/drive/My Drive/scripting-data/data_prepped/011815_090000.jpg\n",
            "/content/drive/My Drive/scripting-output/data_iso_q2/20150118091800\n",
            "010215_090000.jpg\n",
            "/content/drive/My Drive/scripting-data/data_prepped/010215_090000.jpg\n",
            "/content/drive/My Drive/scripting-output/data_iso_q2/20150102090200\n",
            "011515_100000.jpg\n",
            "/content/drive/My Drive/scripting-data/data_prepped/011515_100000.jpg\n",
            "/content/drive/My Drive/scripting-output/data_iso_q2/20150115101500\n",
            "112514_100000.jpg\n",
            "/content/drive/My Drive/scripting-data/data_prepped/112514_100000.jpg\n",
            "/content/drive/My Drive/scripting-output/data_iso_q2/20141125102500\n",
            "120614_100000.jpg\n",
            "/content/drive/My Drive/scripting-data/data_prepped/120614_100000.jpg\n",
            "/content/drive/My Drive/scripting-output/data_iso_q2/20141206100600\n",
            "010115_090000.jpg\n",
            "/content/drive/My Drive/scripting-data/data_prepped/010115_090000.jpg\n",
            "/content/drive/My Drive/scripting-output/data_iso_q2/20150101090100\n",
            "122014_090000.jpg\n",
            "/content/drive/My Drive/scripting-data/data_prepped/122014_090000.jpg\n",
            "/content/drive/My Drive/scripting-output/data_iso_q2/20141220092000\n",
            "112714_090000.jpg\n",
            "/content/drive/My Drive/scripting-data/data_prepped/112714_090000.jpg\n",
            "/content/drive/My Drive/scripting-output/data_iso_q2/20141127092700\n",
            "012115_090000.jpg\n",
            "/content/drive/My Drive/scripting-data/data_prepped/012115_090000.jpg\n",
            "/content/drive/My Drive/scripting-output/data_iso_q2/20150121092100\n",
            "120214_090000.jpg\n",
            "/content/drive/My Drive/scripting-data/data_prepped/120214_090000.jpg\n",
            "/content/drive/My Drive/scripting-output/data_iso_q2/20141202090200\n",
            "011415_090000.jpg\n",
            "/content/drive/My Drive/scripting-data/data_prepped/011415_090000.jpg\n",
            "/content/drive/My Drive/scripting-output/data_iso_q2/20150114091400\n",
            "122414_080000.jpg\n",
            "/content/drive/My Drive/scripting-data/data_prepped/122414_080000.jpg\n",
            "/content/drive/My Drive/scripting-output/data_iso_q2/20141224082400\n",
            "010815_090000.jpg\n",
            "/content/drive/My Drive/scripting-data/data_prepped/010815_090000.jpg\n",
            "/content/drive/My Drive/scripting-output/data_iso_q2/20150108090800\n",
            "112014_090000.jpg\n",
            "/content/drive/My Drive/scripting-data/data_prepped/112014_090000.jpg\n",
            "/content/drive/My Drive/scripting-output/data_iso_q2/20141120092000\n",
            "121814_090000.jpg\n",
            "/content/drive/My Drive/scripting-data/data_prepped/121814_090000.jpg\n",
            "/content/drive/My Drive/scripting-output/data_iso_q2/20141218091800\n",
            "012015_090000.jpg\n",
            "/content/drive/My Drive/scripting-data/data_prepped/012015_090000.jpg\n",
            "/content/drive/My Drive/scripting-output/data_iso_q2/20150120092000\n",
            "120514_090000.jpg\n",
            "/content/drive/My Drive/scripting-data/data_prepped/120514_090000.jpg\n",
            "/content/drive/My Drive/scripting-output/data_iso_q2/20141205090500\n",
            "120114_080000.jpg\n",
            "/content/drive/My Drive/scripting-data/data_prepped/120114_080000.jpg\n",
            "/content/drive/My Drive/scripting-output/data_iso_q2/20141201080100\n",
            "011015_090000.jpg\n",
            "/content/drive/My Drive/scripting-data/data_prepped/011015_090000.jpg\n",
            "/content/drive/My Drive/scripting-output/data_iso_q2/20150110091000\n",
            "011915_090000.jpg\n",
            "/content/drive/My Drive/scripting-data/data_prepped/011915_090000.jpg\n",
            "/content/drive/My Drive/scripting-output/data_iso_q2/20150119091900\n",
            "012415_090000.jpg\n",
            "/content/drive/My Drive/scripting-data/data_prepped/012415_090000.jpg\n",
            "/content/drive/My Drive/scripting-output/data_iso_q2/20150124092400\n",
            "011315_100000.jpg\n",
            "/content/drive/My Drive/scripting-data/data_prepped/011315_100000.jpg\n",
            "/content/drive/My Drive/scripting-output/data_iso_q2/20150113101300\n",
            "120914_100000.jpg\n",
            "/content/drive/My Drive/scripting-data/data_prepped/120914_100000.jpg\n",
            "/content/drive/My Drive/scripting-output/data_iso_q2/20141209100900\n",
            "012215_090000.jpg\n",
            "/content/drive/My Drive/scripting-data/data_prepped/012215_090000.jpg\n",
            "/content/drive/My Drive/scripting-output/data_iso_q2/20150122092200\n",
            "010515_090000.jpg\n",
            "/content/drive/My Drive/scripting-data/data_prepped/010515_090000.jpg\n",
            "/content/drive/My Drive/scripting-output/data_iso_q2/20150105090500\n",
            "120814_090000.jpg\n",
            "/content/drive/My Drive/scripting-data/data_prepped/120814_090000.jpg\n",
            "/content/drive/My Drive/scripting-output/data_iso_q2/20141208090800\n",
            "120714_080000.jpg\n",
            "/content/drive/My Drive/scripting-data/data_prepped/120714_080000.jpg\n",
            "/content/drive/My Drive/scripting-output/data_iso_q2/20141207080700\n",
            "020315_110000.jpg\n",
            "/content/drive/My Drive/scripting-data/data_prepped/020315_110000.jpg\n",
            "/content/drive/My Drive/scripting-output/data_iso_q2/20150203110300\n",
            "020215_100000.jpg\n",
            "/content/drive/My Drive/scripting-data/data_prepped/020215_100000.jpg\n",
            "/content/drive/My Drive/scripting-output/data_iso_q2/20150202100200\n",
            "012515_090000.jpg\n",
            "/content/drive/My Drive/scripting-data/data_prepped/012515_090000.jpg\n",
            "/content/drive/My Drive/scripting-output/data_iso_q2/20150125092500\n",
            "112114_100000.jpg\n",
            "/content/drive/My Drive/scripting-data/data_prepped/112114_100000.jpg\n",
            "/content/drive/My Drive/scripting-output/data_iso_q2/20141121102100\n",
            "011215_090000.jpg\n",
            "/content/drive/My Drive/scripting-data/data_prepped/011215_090000.jpg\n",
            "/content/drive/My Drive/scripting-output/data_iso_q2/20150112091200\n",
            "121714_090000.jpg\n",
            "/content/drive/My Drive/scripting-data/data_prepped/121714_090000.jpg\n",
            "/content/drive/My Drive/scripting-output/data_iso_q2/20141217091700\n",
            "121914_080000.jpg\n",
            "/content/drive/My Drive/scripting-data/data_prepped/121914_080000.jpg\n",
            "/content/drive/My Drive/scripting-output/data_iso_q2/20141219081900\n",
            "011715_090000.jpg\n",
            "/content/drive/My Drive/scripting-data/data_prepped/011715_090000.jpg\n",
            "/content/drive/My Drive/scripting-output/data_iso_q2/20150117091700\n",
            "010315_090000.jpg\n",
            "/content/drive/My Drive/scripting-data/data_prepped/010315_090000.jpg\n",
            "/content/drive/My Drive/scripting-output/data_iso_q2/20150103090300\n"
          ]
        }
      ]
    },
    {
      "cell_type": "code",
      "metadata": {
        "id": "7lGEER_Z8WAw",
        "colab": {
          "base_uri": "https://localhost:8080/"
        },
        "outputId": "d092964f-cf48-4f9c-e82c-c95fa5b49a39"
      },
      "source": [
        "# Using `ls`, list the contents of the reduced raw data directory \"data_prepped\"\n",
        "\n",
        "! ls \"/content/drive/My Drive/scripting-data/data_prepped\""
      ],
      "execution_count": null,
      "outputs": [
        {
          "output_type": "stream",
          "name": "stdout",
          "text": [
            "010115_090000.jpg  012015_090000.jpg  020815_080000.jpg  120814_090000.jpg\n",
            "010215_090000.jpg  012115_090000.jpg  020915_090000.jpg  120914_100000.jpg\n",
            "010315_090000.jpg  012215_090000.jpg  112014_090000.jpg  121014_100000.jpg\n",
            "010415_090000.jpg  012315_100000.jpg  112114_100000.jpg  121614_100000.jpg\n",
            "010515_090000.jpg  012415_090000.jpg  112214_110000.jpg  121714_090000.jpg\n",
            "010615_090000.jpg  012515_090000.jpg  112314_100000.jpg  121814_090000.jpg\n",
            "010715_100000.jpg  012615_090000.jpg  112414_100000.jpg  121914_080000.jpg\n",
            "010815_090000.jpg  012715_090000.jpg  112514_100000.jpg  122014_090000.jpg\n",
            "010915_090000.jpg  012815_090000.jpg  112614_100000.jpg  122114_130100.jpg\n",
            "011015_090000.jpg  012915_090000.jpg  112714_090000.jpg  122214_080000.jpg\n",
            "011115_090000.jpg  013015_090000.jpg  112914_090000.jpg  122314_090000.jpg\n",
            "011215_090000.jpg  013115_090000.jpg  113014_090000.jpg  122414_080000.jpg\n",
            "011315_100000.jpg  020115_090000.jpg  120114_080000.jpg  122514_090000.jpg\n",
            "011415_090000.jpg  020215_100000.jpg  120214_090000.jpg  122614_090000.jpg\n",
            "011515_100000.jpg  020315_110000.jpg  120314_090000.jpg  122714_100000.jpg\n",
            "011615_090000.jpg  020415_090000.jpg  120414_090000.jpg  122814_100000.jpg\n",
            "011715_090000.jpg  020515_100000.jpg  120514_090000.jpg  122914_090000.jpg\n",
            "011815_090000.jpg  020615_100000.jpg  120614_100000.jpg  123014_090000.jpg\n",
            "011915_090000.jpg  020715_090000.jpg  120714_080000.jpg  123114_090000.jpg\n"
          ]
        }
      ]
    },
    {
      "cell_type": "code",
      "metadata": {
        "id": "sxenPJCs8YL9",
        "colab": {
          "base_uri": "https://localhost:8080/"
        },
        "outputId": "fb1c184f-e554-4422-f6e3-94d10f2d0c36"
      },
      "source": [
        "# Using `ls`, list the contents of the reduced raw data directory \"data_iso_q2\"\n",
        "\n",
        "! ls \"/content/drive/My Drive/scripting-output/data_iso_q2\""
      ],
      "execution_count": null,
      "outputs": [
        {
          "output_type": "stream",
          "name": "stdout",
          "text": [
            "20141120092000\t20141207080700\t20141228102800\t20150113101300\t20150129092900\n",
            "20141121102100\t20141208090800\t20141229092900\t20150114091400\t20150130093000\n",
            "20141122112200\t20141209100900\t20141230093000\t20150115101500\t20150131093100\n",
            "20141123102300\t20141210101000\t20141231093100\t20150116091600\t20150201090100\n",
            "20141124102400\t20141216101600\t20150101090100\t20150117091700\t20150202100200\n",
            "20141125102500\t20141217091700\t20150102090200\t20150118091800\t20150203110300\n",
            "20141126102600\t20141218091800\t20150103090300\t20150119091900\t20150204090400\n",
            "20141127092700\t20141219081900\t20150104090400\t20150120092000\t20150205100500\n",
            "20141129092900\t20141220092000\t20150105090500\t20150121092100\t20150206100600\n",
            "20141130093000\t20141221132100\t20150106090600\t20150122092200\t20150207090700\n",
            "20141201080100\t20141222082200\t20150107100700\t20150123102300\t20150208080800\n",
            "20141202090200\t20141223092300\t20150108090800\t20150124092400\t20150209090900\n",
            "20141203090300\t20141224082400\t20150109090900\t20150125092500\n",
            "20141204090400\t20141225092500\t20150110091000\t20150126092600\n",
            "20141205090500\t20141226092600\t20150111091100\t20150127092700\n",
            "20141206100600\t20141227102700\t20150112091200\t20150128092800\n"
          ]
        }
      ]
    },
    {
      "cell_type": "markdown",
      "metadata": {
        "id": "w-cbZ1Vt7osc"
      },
      "source": [
        "# Question 3"
      ]
    },
    {
      "cell_type": "code",
      "metadata": {
        "id": "mcsuYrec7EoQ"
      },
      "source": [
        "! pip install exifread"
      ],
      "execution_count": null,
      "outputs": []
    },
    {
      "cell_type": "code",
      "metadata": {
        "id": "hfhQxJwZ8ptz"
      },
      "source": [
        "! mkdir -p \"/content/drive/My Drive/scripting-output/data_iso_q3\""
      ],
      "execution_count": null,
      "outputs": []
    },
    {
      "cell_type": "code",
      "metadata": {
        "id": "C34G8V_H6004"
      },
      "source": [
        "import os\n",
        "import os.path\n",
        "import shutil\n",
        "\n",
        "# Hint: the `exifread` package has tools for reading image file metadata\n",
        "import exifread\n",
        "\n",
        "src_path = \"/content/drive/My Drive/scripting-data/data_prepped\"\n",
        "dst_path = \"/content/drive/My Drive/scripting-output/data_iso_q3\"\n",
        "\n",
        "for entry in os.listdir(src_path):\n",
        "\n",
        "    src_file = os.path.join(src_path, entry)\n",
        "\n",
        "    if not os.path.isfile(src_file):\n",
        "        continue\n",
        "\n",
        "    with open(src_file, 'rb') as image:\n",
        "\n",
        "        exif = exifread.process_file(image)\n",
        "\n",
        "        timestamp = exif['Image DateTime'].values\n",
        "\n",
        "        date, time = timestamp.split(' ')\n",
        "\n",
        "        YYYY, MM, DD = date.split(':')\n",
        "        hh, mm, ss = time.split(':')\n",
        "\n",
        "        new_name = f\"{YYYY}{MM}{DD}_{hh}{mm}{ss}.jpg\"\n",
        "\n",
        "        dst_file = os.path.join(dst_path, new_name)\n",
        "\n",
        "        shutil.copyfile(src_file, dst_file)\n"
      ],
      "execution_count": null,
      "outputs": []
    },
    {
      "cell_type": "code",
      "metadata": {
        "id": "uRi3VGRN8wFr"
      },
      "source": [
        "# Using `ls`, list the contents of the reduced raw data directory \"data_reduced\""
      ],
      "execution_count": null,
      "outputs": []
    },
    {
      "cell_type": "code",
      "metadata": {
        "id": "h4rMbSrs8yfi"
      },
      "source": [
        "# Using `ls`, list the contents of the reduced raw data directory \"data_iso_q3\""
      ],
      "execution_count": null,
      "outputs": []
    },
    {
      "cell_type": "code",
      "metadata": {
        "id": "pPW36V-88zps"
      },
      "source": [
        ""
      ],
      "execution_count": null,
      "outputs": []
    }
  ]
}